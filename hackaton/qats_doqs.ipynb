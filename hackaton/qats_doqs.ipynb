{
 "cells": [
  {
   "cell_type": "markdown",
   "metadata": {},
   "source": [
    "# Qats & Doqs"
   ]
  },
  {
   "cell_type": "code",
   "execution_count": 1,
   "metadata": {},
   "outputs": [],
   "source": [
    "# On importe les librairies dont on aura besoin pour ce tp\n",
    "import pennylane as qml\n",
    "from pennylane import numpy as np\n",
    "import pandas as pd\n",
    "import matplotlib.pyplot as plt"
   ]
  },
  {
   "cell_type": "markdown",
   "metadata": {},
   "source": [
    "## Sensor"
   ]
  },
  {
   "cell_type": "code",
   "execution_count": 2,
   "metadata": {},
   "outputs": [],
   "source": [
    "@qml.template\n",
    "def sensor(datas, wires):\n",
    "    qml.RX(datas[0], wires=wires[0])\n",
    "    if len(datas) == 3:\n",
    "        qml.RY(datas[1], wires=wires[0])\n",
    "        qml.RZ(datas[2], wires=wires[0])\n",
    "    else:\n",
    "        qml.RZ(datas[1], wires=wires[0])"
   ]
  },
  {
   "cell_type": "markdown",
   "metadata": {},
   "source": [
    "## Classifier"
   ]
  },
  {
   "cell_type": "code",
   "execution_count": 3,
   "metadata": {},
   "outputs": [],
   "source": [
    "@qml.template\n",
    "def classifier(params, wires):\n",
    "    # qml.RZ(params, wires=wires[0])\n",
    "    # qml.RY(params, wires=wires[0])\n",
    "    n_qubits = len(wires)\n",
    "    n_rotations = len(params)\n",
    "    n_layers = n_rotations // n_qubits\n",
    "\n",
    "    if n_rotations % n_qubits != 0:\n",
    "        raise Exception(\"Last layer is incomplete, not all qubits are rotated\")\n",
    "\n",
    "    # Alternating layers of unitary rotations on every qubit followed by a\n",
    "    # ring cascade of CNOTs.\n",
    "    for layer_idx in range(n_layers):\n",
    "        layer_params = params[layer_idx * n_qubits: layer_idx * n_qubits + n_qubits, :]\n",
    "        qml.broadcast(qml.Rot, wires, pattern=\"single\", parameters=layer_params)\n",
    "        if n_qubits > 1:\n",
    "            qml.broadcast(qml.CNOT, wires, pattern=\"ring\")"
   ]
  },
  {
   "cell_type": "markdown",
   "metadata": {},
   "source": [
    "## Init data sensor"
   ]
  },
  {
   "cell_type": "code",
   "execution_count": 4,
   "metadata": {},
   "outputs": [],
   "source": [
    "\"\"\"\n",
    "   To use your dataset just change the csv file call \n",
    "\"\"\"\n",
    "csv_training = pd.read_csv('datas/training_data_xz.csv', header=None)\n",
    "csv_testing = pd.read_csv('datas/testing_data_xz.csv', header=None)"
   ]
  },
  {
   "cell_type": "markdown",
   "metadata": {},
   "source": [
    "## Training"
   ]
  },
  {
   "cell_type": "code",
   "execution_count": 12,
   "metadata": {},
   "outputs": [
    {
     "name": "stdout",
     "output_type": "stream",
     "text": [
      "##################################################################\n",
      "# TRAINING\n",
      "Data : 1.310305388 ; 5.265837637 = -1\n",
      "Data : 1.807496019 ; 4.473977389 = -1\n",
      "Data : 1.8280737 ; 4.368759399 = 1\n",
      "Data : 2.250278501 ; 2.510486673 = 1\n",
      "Data : 0.809597564 ; 1.625995122 = -1\n",
      "Data : 0.835273499 ; 3.986924917 = -1\n",
      "Data : 1.5964400509999999 ; 5.485240276 = 1\n",
      "Data : 0.917451826 ; 0.198000957 = -1\n",
      "Data : 0.76161686 ; 4.235469558999999 = -1\n",
      "Data : 1.3332371790000002 ; 1.454580258 = 1\n",
      "Data : 2.120605062 ; 6.156591822 = 1\n",
      "Data : 0.307872493 ; 2.65818269 = -1\n",
      "Data : 0.057841418 ; 3.783048605 = -1\n",
      "Data : 0.356434894 ; 4.167260741000001 = -1\n",
      "Data : 1.700653184 ; 4.222820391 = -1\n",
      "Data : 3.0563560439999997 ; 1.51385785 = 1\n",
      "Data : 0.7811078290000001 ; 1.5877816790000001 = -1\n",
      "Data : 1.723835215 ; 1.41360815 = 1\n",
      "Data : 3.1110457360000003 ; 3.8131968169999997 = 1\n",
      "Data : 3.071292306 ; 4.311176623 = 1\n",
      "\n",
      "Training done !\n"
     ]
    }
   ],
   "source": [
    "print(\"##################################################################\\n\"\n",
    "      \"# TRAINING\")\n",
    "\"\"\"\n",
    "    Variables :\n",
    "    data_training : the xy // xyz data for only 1 qubit\n",
    "    label_training : the label for only 1 qubit\n",
    "    n_layers : deep level\n",
    "    weights : the angle for the classifier\n",
    "\"\"\"\n",
    "\n",
    "dev = qml.device('default.qubit', wires=1, shots=1)\n",
    "n_qubits = len(dev.wires)\n",
    "n_layers = 2\n",
    "weights = np.random.uniform(low=-np.pi, high=np.pi, size=(n_layers * n_qubits, 3))\n",
    "\n",
    "if csv_training.shape[1] == 3:\n",
    "    prediction = [[], [], []]\n",
    "else:\n",
    "    prediction = [[], [], [], []]\n",
    "\n",
    "#for i in range(len(csv_training[0])):\n",
    "for i in range(20):\n",
    "    if csv_training.shape[1] == 3:\n",
    "        data_training = [csv_training[0][i], csv_training[1][i]]\n",
    "        label_training = csv_training[2][i]\n",
    "    else:\n",
    "        data_training = [csv_training[0][i], csv_training[1][i], csv_training[2][i]]\n",
    "        label_training = csv_training[3][i]\n",
    "\n",
    "\n",
    "    @qml.qnode(dev)\n",
    "    def circuit(datas, params):\n",
    "        sensor(datas, wires=[0])\n",
    "        classifier(params, wires=dev.wires)\n",
    "        return qml.sample(qml.PauliZ(0))\n",
    "\n",
    "    result = circuit(data_training, weights)\n",
    "    prob = result\n",
    "    \n",
    "    # Graph and check error\n",
    "    prediction[0].append(data_training[0])\n",
    "    prediction[1].append(data_training[1])\n",
    "    if csv_training.shape[1] == 3:\n",
    "        prediction[2].append(prob)\n",
    "        print(\"Data : {} ; {} = {}\".format(data_training[0], data_training[1], prob))\n",
    "    else:\n",
    "        prediction[2].append(data_training[2])\n",
    "        prediction[3].append(prob)\n",
    "        print(\"Data : {} ; {} ; {} = {}\".format(data_training[0], data_training[1], data_training[1], prob))\n",
    "\n",
    "print(\"\\nTraining done !\")"
   ]
  },
  {
   "cell_type": "markdown",
   "metadata": {},
   "source": [
    "## Graph and check error"
   ]
  },
  {
   "cell_type": "code",
   "execution_count": 13,
   "metadata": {},
   "outputs": [
    {
     "data": {
      "image/png": "[encoded data removed]",
      "text/plain": [
       "<Figure size 432x288 with 2 Axes>"
      ]
     },
     "metadata": {
      "needs_background": "light"
     },
     "output_type": "display_data"
    }
   ],
   "source": [
    "if len(prediction) == 3:\n",
    "    plt.scatter(prediction[1], prediction[0], c=prediction[2], cmap=\"coolwarm\")\n",
    "    plt.plot([0,2*np.pi], [np.pi/2, np.pi/2], linestyle='--', c='#000000')\n",
    "    plt.colorbar()\n",
    "else:\n",
    "    fig = plt.figure().gca(projection='3d')\n",
    "    fig.scatter(prediction[0], prediction[1], prediction[2], c=prediction[3], cmap=\"coolwarm\")\n",
    "plt.show()"
   ]
  },
  {
   "cell_type": "code",
   "execution_count": null,
   "metadata": {},
   "outputs": [],
   "source": []
  }
 ],
 "metadata": {
  "kernelspec": {
   "display_name": "Python 3",
   "language": "python",
   "name": "python3"
  },
  "language_info": {
   "codemirror_mode": {
    "name": "ipython",
    "version": 3
   },
   "file_extension": ".py",
   "mimetype": "text/x-python",
   "name": "python",
   "nbconvert_exporter": "python",
   "pygments_lexer": "ipython3",
   "version": "3.7.4"
  }
 },
 "nbformat": 4,
 "nbformat_minor": 2
}
